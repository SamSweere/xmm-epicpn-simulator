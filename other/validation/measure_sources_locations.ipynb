{
 "cells": [
  {
   "cell_type": "markdown",
   "source": [
    "# Measure simulate sources PSF and vignetting"
   ],
   "metadata": {}
  },
  {
   "cell_type": "code",
   "execution_count": 1,
   "source": [
    "import os\n",
    "\n",
    "import numpy as np\n",
    "\n",
    "%matplotlib inline\n",
    "import matplotlib.pyplot as plt\n",
    "\n",
    "import astropy.units as u\n",
    "from astropy.io import fits\n",
    "from astropy.wcs import WCS\n",
    "from astropy.table import QTable\n",
    "from astropy.coordinates import SkyCoord\n",
    "from astropy.visualization import simple_norm\n",
    "\n",
    "from astropy.modeling import models, fitting\n",
    "\n",
    "from regions import CircleSkyRegion\n",
    "\n",
    "home = os.path.expanduser('~')"
   ],
   "outputs": [],
   "metadata": {}
  },
  {
   "cell_type": "code",
   "execution_count": 2,
   "source": [
    "# wdir = f'{home}/Desktop/Sam Sweere'\n",
    "\n",
    "# wdir = f'/home/sam/Documents/ESA/tmp_check'\n",
    "\n",
    "with fits.open(f'/home/sam/Documents/ESA/data/sim/xmm_sim_dataset/100ks/test_grid/1x/test_grid_f_1e-13_step_10_mult_1_100ks_p_0-0.fits.gz') as hdu:\n",
    "    wcs1 = WCS(hdu[0].header)\n",
    "    image1 = hdu[0].data\n",
    "    \n",
    "with fits.open(f'/home/sam/Documents/ESA/data/sim/xmm_sim_dataset/100ks/test_grid/2x/test_grid_f_1e-13_step_10_mult_2_100ks_p_0-0.fits.gz') as hdu2:\n",
    "    wcs2 = WCS(hdu2[0].header)\n",
    "    image2 = hdu2[0].data\n",
    "\n",
    "with fits.open(f'/home/sam/Documents/ESA/data/sim/xmm_sim_dataset/100ks/test_grid/4x/test_grid_f_1e-13_step_10_mult_4_100ks_p_0-0.fits.gz') as hdu4:\n",
    "    wcs4 = WCS(hdu4[0].header)\n",
    "    image4 = hdu4[0].data\n",
    "\n",
    "src = QTable.read(f'/home/sam/Documents/ESA/data/sim/simput/test_grid/test_grid_f_1e-13_step_10.simput.gz',hdu=1)\n",
    "#"
   ],
   "outputs": [
    {
     "output_type": "stream",
     "name": "stderr",
     "text": [
      "WARNING: UnitsWarning: 'erg/s/cm**2' contains multiple slashes, which is discouraged by the FITS standard [astropy.units.format.generic]\n"
     ]
    }
   ],
   "metadata": {}
  },
  {
   "cell_type": "code",
   "execution_count": 3,
   "source": [
    "# src"
   ],
   "outputs": [],
   "metadata": {}
  },
  {
   "cell_type": "code",
   "execution_count": 5,
   "source": [
    "ra = src['RA']\n",
    "dec = src['DEC']\n",
    "flux = src['FLUX']"
   ],
   "outputs": [],
   "metadata": {}
  },
  {
   "cell_type": "code",
   "execution_count": 6,
   "source": [
    "sources = SkyCoord(ra,dec,unit=u.deg,frame='icrs')\n",
    "reg = []\n",
    "radius = 40.0*u.arcsec\n",
    "for j in sources:\n",
    "    reg.append(CircleSkyRegion(j,radius=radius))\n",
    "#"
   ],
   "outputs": [],
   "metadata": {}
  },
  {
   "cell_type": "code",
   "execution_count": 12,
   "source": [
    "fig, ax = plt.subplots(1,3,figsize=(15,15))\n",
    "#\n",
    "norm1 = simple_norm(image1, 'log')\n",
    "norm2 = simple_norm(image2, 'log')\n",
    "norm4 = simple_norm(image2, 'log')\n",
    "ax[0].imshow(image1, cmap='gray', interpolation='nearest', origin='lower',norm=norm1)\n",
    "ax[1].imshow(image2.data, cmap='gray', interpolation='nearest', origin='lower',norm=norm2)\n",
    "ax[2].imshow(image4.data, cmap='gray', interpolation='nearest', origin='lower',norm=norm4)\n",
    "#\n",
    "for x in reg:\n",
    "    pix_reg1 = x.to_pixel(wcs1)\n",
    "    pix_reg2 = x.to_pixel(wcs2)\n",
    "    pix_reg4 = x.to_pixel(wcs4)\n",
    "    pix_reg1.plot(ax=ax[0])\n",
    "    pix_reg2.plot(ax=ax[1])\n",
    "    pix_reg4.plot(ax=ax[2])\n",
    "#\n",
    "plt.savefig(f'output_sources.png',dpi=100)\n",
    "plt.show()\n",
    "plt.close()"
   ],
   "outputs": [],
   "metadata": {}
  },
  {
   "cell_type": "code",
   "execution_count": 3,
   "source": [
    "def fit_source(image,center,box):\n",
    "    #\n",
    "    #\n",
    "    #\n",
    "    xshape = image.shape\n",
    "    i0 = min(int(center[0] - box/2.0),0)\n",
    "    i1 = max(int(center[0] + box/2.0),xshape[0])\n",
    "    j0 = min(int(center[1] - box/2.0),0)\n",
    "    j1 = max(int(center[1] + box/2.0),xshape[1])\n",
    "    #\n",
    "    wimage = image[i0:i1,j0:j1]\n",
    "    #\n",
    "    p_init = models.Gauss2D()\n",
    "    fit_p = fitting.LevMarLSQFitter()\n",
    "    p = fit_p(p_init, x, y, z)\n"
   ],
   "outputs": [],
   "metadata": {}
  },
  {
   "cell_type": "code",
   "execution_count": 2,
   "source": [
    "min(10,0)"
   ],
   "outputs": [
    {
     "output_type": "execute_result",
     "data": {
      "text/plain": [
       "0"
      ]
     },
     "metadata": {},
     "execution_count": 2
    }
   ],
   "metadata": {}
  },
  {
   "cell_type": "code",
   "execution_count": null,
   "source": [],
   "outputs": [],
   "metadata": {}
  }
 ],
 "metadata": {
  "interpreter": {
   "hash": "767d51c1340bd893661ea55ea3124f6de3c7a262a8b4abca0554b478b1e2ff90"
  },
  "kernelspec": {
   "name": "python3",
   "display_name": "Python 3.8.10 64-bit ('usr')"
  },
  "language_info": {
   "codemirror_mode": {
    "name": "ipython",
    "version": 3
   },
   "file_extension": ".py",
   "mimetype": "text/x-python",
   "name": "python",
   "nbconvert_exporter": "python",
   "pygments_lexer": "ipython3",
   "version": "3.8.10"
  }
 },
 "nbformat": 4,
 "nbformat_minor": 5
}